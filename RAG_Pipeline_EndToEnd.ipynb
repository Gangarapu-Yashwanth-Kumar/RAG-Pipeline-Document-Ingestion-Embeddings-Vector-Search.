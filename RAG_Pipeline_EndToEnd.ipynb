{
 "cells": [
  {
   "cell_type": "markdown",
   "metadata": {},
   "source": [
    "# Production-Ready RAG Pipeline — Architecture & Steps\n",
    "\n",
    "This notebook demonstrates a Retrieval-Augmented Generation (RAG) pipeline, covering data ingestion, embeddings, vector storage, and LLM-based querying.\n"
   ]
  },
  {
   "cell_type": "markdown",
   "metadata": {},
   "source": [
    "## Table of Contents\n",
    "1. [Installing Dependencies](#Installing-Dependencies)\n",
    "2. [API Key Setup](#API-Key-Setup)\n",
    "3. [Loading PDF Documents](#Loading-PDF-Documents)\n",
    "4. [Display Loaded Documents](#Display-Loaded-Documents)\n",
    "5. [Creating a Text Wrapping Function](#Creating-a-Text-Wrapping-Function)\n",
    "6. [Previewing a Document](#Previewing-a-Document)\n",
    "7. [Splitting Documents](#Splitting-Documents)\n",
    "8. [Create embeddings and build FAISS vector store](#Create-embeddings-and-build-FAISS-vector-store)\n",
    "9. [Setup LLM (Groq)](#Setup-LLM-Groq)\n",
    "10. [Simple RetrievalQA](#Simple-RetrievalQA)\n",
    "11. [Conversational RAG with memory](#Conversational-RAG-with-memory)\n"
   ]
  },
  {
   "cell_type": "code",
   "execution_count": null,
   "metadata": {},
   "outputs": [],
   "source": [
    "# Requirements\n",
    "%pip install -q langchain langchain_core langchain_community \\\n",
    "    sentence_transformers faiss-cpu unstructured chromadb \\\n",
    "    Cython tiktoken unstructured[local-inference] langchain_groq\n"
   ]
  },
  {
   "cell_type": "markdown",
   "metadata": {},
   "source": [
    "## Installing Dependencies"
   ]
  },
  {
   "cell_type": "code",
   "execution_count": null,
   "metadata": {
    "executionInfo": {
     "elapsed": 7237,
     "status": "ok",
     "timestamp": 1757599747574,
     "user": {
      "displayName": "Yashwanth Kumar",
      "userId": "04073106945765763472"
     },
     "user_tz": -330
    },
    "id": "osC16fOIY68M"
   },
   "outputs": [],
   "source": [
    "!pip install -q langchain langchain_core langchain_community sentence_transformers faiss-cpu unstructured chromadb Cython tiktoken unstructured[local-inference] langchain_groq \n",
    "# Installs all required packages silently (-q) for your Retrieval-Augmented Generation (RAG) pipeline, including LangChain, FAISS, ChromaDB, and Groq integration."
   ]
  },
  {
   "cell_type": "markdown",
   "metadata": {},
   "source": [
    "## API Key Setup"
   ]
  },
  {
   "cell_type": "code",
   "execution_count": 3,
   "metadata": {
    "colab": {
     "base_uri": "https://localhost:8080/"
    },
    "executionInfo": {
     "elapsed": 3694,
     "status": "ok",
     "timestamp": 1757599755529,
     "user": {
      "displayName": "Yashwanth Kumar",
      "userId": "04073106945765763472"
     },
     "user_tz": -330
    },
    "id": "a0xXzDrrY8fd",
    "outputId": "f2db8624-a474-4abb-fc34-0c72f83175e8"
   },
   "outputs": [
    {
     "name": "stdout",
     "output_type": "stream",
     "text": [
      "Provide your GROQ API TOKEN··········\n"
     ]
    }
   ],
   "source": [
    "import getpass\n",
    "import os\n",
    "\n",
    "if \"GROQ_API_KEY\" not in os.environ:\n",
    "    os.environ[\"GROQ_API_KEY\"] = getpass.getpass(\"Provide your GROQ API TOKEN\")"
   ]
  },
  {
   "cell_type": "markdown",
   "metadata": {},
   "source": [
    "## Loading PDF Documents"
   ]
  },
  {
   "cell_type": "code",
   "execution_count": null,
   "metadata": {
    "colab": {
     "base_uri": "https://localhost:8080/"
    },
    "executionInfo": {
     "elapsed": 14006,
     "status": "ok",
     "timestamp": 1757599796741,
     "user": {
      "displayName": "Yashwanth Kumar",
      "userId": "04073106945765763472"
     },
     "user_tz": -330
    },
    "id": "PwJDsEyFY8hl",
    "outputId": "b8b93b98-2084-44d1-baf9-8c29c54e5268"
   },
   "outputs": [
    {
     "name": "stdout",
     "output_type": "stream",
     "text": [
      "Warning: No languages specified, defaulting to English.\n"
     ]
    }
   ],
   "source": [
    "# Document Loader\n",
    "from langchain.document_loaders import UnstructuredPDFLoader  # Imports the UnstructuredPDFLoader to load PDFs.\n",
    "loader = UnstructuredPDFLoader(r'/content/drive/MyDrive/GenAI vs AgenticAI.pdf') # Creates a loader for the specified PDF file.\n",
    "documents = loader.load()  # Loads the PDF into memory as documents."
   ]
  },
  {
   "cell_type": "markdown",
   "metadata": {},
   "source": [
    "### Display Loaded Documents"
   ]
  },
  {
   "cell_type": "code",
   "execution_count": null,
   "metadata": {
    "colab": {
     "base_uri": "https://localhost:8080/"
    },
    "executionInfo": {
     "elapsed": 59,
     "status": "ok",
     "timestamp": 1757599801404,
     "user": {
      "displayName": "Yashwanth Kumar",
      "userId": "04073106945765763472"
     },
     "user_tz": -330
    },
    "id": "NGe0v9_UY8k6",
    "outputId": "6e524b79-87a9-4fb5-eccb-3b655227261a"
   },
   "outputs": [
    {
     "data": {
      "text/plain": [
       "[Document(metadata={'source': '/content/drive/MyDrive/GenAI vs AgenticAI.pdf'}, page_content='Generative AI vs. Agentic AI: A Deep Dive into the Future of Intelligent Systems\\n\\nArtificial Intelligence (AI) is not a monolithic concept, but a vast and evolving landscape of technologies, methodologies, and applications. Among the most significant developments in recent years are Generative AI and Agentic AI—two paradigms that, while closely related, differ fundamentally in their design, function, and implications. As these technologies continue to shape industries, economies, and societies, understanding their distinctions and interplay is critical for anyone engaged in technology, policy, business, or ethics.\\n\\n1. What is Generative AI?\\n\\nGenerative AI refers to systems designed to generate new content, data, or information based on learned patterns from existing data. These models use machine learning techniques—particularly deep learning—to create text, images, audio, code, and even 3D models.\\n\\nKey Features:\\n\\nPattern Recognition: Learns from massive datasets and identifies statistical patterns.\\n\\nContent Creation: Produces human-like output such as essays, paintings, music, or realistic synthetic voices.\\n\\nNon-Goal-Oriented: It responds to prompts but doesn’t maintain persistent goals or long- term plans.\\n\\nProminent Examples:\\n\\nChatGPT: Generates coherent and contextually aware text. \\uf0b7 DALL·E: Creates images from text descriptions. \\uf0b7 DeepMind’s AlphaCode: Generates code to solve programming problems.\\n\\nGenerative AI shines in applications requiring creativity, adaptability, and scalability of content creation. However, it typically lacks memory, agency, and persistent intent.\\n\\n2. What is Agentic AI?\\n\\nAgentic AI refers to AI systems that function as agents—entities capable of perceiving environments, making decisions, pursuing goals, and acting autonomously. These systems exhibit behaviors traditionally associated with agency: persistence, planning, memory, self- correction, and interaction over time.\\n\\nKey Features:\\n\\nGoal-Oriented: Designed to achieve specific objectives. \\uf0b7 Autonomy: Can operate independently across time without continuous human prompting. \\uf0b7 Reasoning and Planning: Uses models of the world to simulate and evaluate actions. \\uf0b7 Memory and Adaptability: Retains state, adapts to changing conditions, and learns from experience.\\n\\nProminent Examples:\\n\\nAutoGPT: Chains together tasks and interacts with tools to complete goals. \\uf0b7 Personal AI Assistants (Next-Gen): Perform multi-step tasks like managing schedules, sending emails, or researching topics.\\n\\nRobotic Systems: Autonomous drones, delivery bots, or warehouse agents.\\n\\nAgentic AI is closer to the science fiction vision of AI—intelligent systems that act with purpose and continuity.\\n\\n3. Architectural Differences\\n\\nAspect\\n\\nGenerative AI\\n\\nAgentic AI\\n\\nCore Function\\n\\nContent generation\\n\\nGoal-directed behavior\\n\\nTemporal Scope\\n\\nShort-term (stateless or session- based)\\n\\nLong-term (stateful)\\n\\nMemory\\n\\nTypically limited or session-based Persistent memory\\n\\nAutonomy\\n\\nReactive\\n\\nProactive\\n\\nLearning\\n\\nOften pre-trained and fine-tuned\\n\\nMay include online or reinforcement learning\\n\\nExamples\\n\\nGPT-4, Midjourney\\n\\nAutoGPT, BabyAGI, ReAct agents\\n\\nWhile both can use large language models (LLMs), Agentic AI builds additional layers around these models—like memory stores, planning algorithms, feedback loops, and external tool access.\\n\\n4. Functional Comparison\\n\\nGenerative AI Strengths:\\n\\nMimics human expression convincingly \\uf0b7 Efficiently creates media content at scale \\uf0b7 Aids brainstorming and ideation \\uf0b7 Enhances creative workflows\\n\\nAgentic AI Strengths:\\n\\nAutomates complex workflows \\uf0b7 Makes strategic decisions \\uf0b7 Learns and adapts through interaction \\uf0b7 Integrates multiple tools and data sources\\n\\nGenerative AI is a phenomenal assistant for human creativity; Agentic AI aims to act with or for the human, often with minimal supervision.\\n\\n5. Examples and Use Cases\\n\\nGenerative AI:\\n\\nMarketing: Copywriting, ad generation, brand voice development \\uf0b7 Entertainment: AI-written scripts, virtual musicians, interactive storytelling \\uf0b7 Education: AI tutors, content summarization, language translation \\uf0b7 Design: Generative art, logo creation, UI/UX prototyping\\n\\nAgentic AI:\\n\\nPersonal Productivity: Scheduling meetings, drafting reports, managing tasks \\uf0b7 Customer Support: Multi-turn ticket resolution, contextual responses \\uf0b7 Research and Analysis: Autonomous data gathering, hypothesis testing \\uf0b7 Automation: Software agents that use APIs to perform tasks (e.g., booking travel)\\n\\nThe line between the two can blur in practice. For instance, a generative model may be used inside an agent to write an email, but the agent decides when, why, and how to write it.\\n\\n6. Philosophical and Ethical Dimensions\\n\\nThe distinction between generative and agentic AI also opens profound philosophical questions:\\n\\nResponsibility and Intent: Can an AI be held accountable if it has agency? \\uf0b7 Creativity vs. Intentionality: Is AI-generated content truly creative if there’s no intent behind it?\\n\\nHuman Oversight: How do we maintain control over systems that act independently?\\n\\nGenerative AI is often seen as a tool; Agentic AI increasingly resembles a collaborator—or even a competitor.\\n\\nEthically, this raises concerns about autonomy, decision-making in high-stakes domains (e.g., law, medicine, warfare), and the potential for deceptive or manipulative behavior.\\n\\n7. Convergence: Where Generative Meets Agentic\\n\\nRecent innovations are fusing generative capabilities into agentic architectures, producing powerful hybrids. For example:\\n\\nReAct Framework: Combines reasoning and action to solve tasks via tool use. \\uf0b7 Toolformer and Function-Calling Agents: Allow LLMs to invoke APIs autonomously. \\uf0b7 Long-term Memory and Feedback Loops: Let agents reflect on past interactions and improve over time.\\n\\nThese hybrid systems can generate content and decide how and when to deploy it. This convergence will define the next generation of AI tools—adaptive, context-aware, and capable of complex interaction.\\n\\n8. Risks and Challenges\\n\\nFor Generative AI:\\n\\nMisinformation and Deepfakes: Can generate persuasive but false content. \\uf0b7 \\uf0b7 Bias and Harm: Models may replicate or amplify harmful stereotypes. Intellectual Property: Raises legal questions about training data and output ownership.\\n\\nFor Agentic AI:\\n\\nUnpredictable Behavior: Autonomous decisions may lead to unintended consequences. \\uf0b7 Control and Alignment: Difficult to ensure agents pursue goals safely and ethically. \\uf0b7 Security Risks: Agents with access to systems and tools may be exploited or go rogue.\\n\\nThe introduction of memory and autonomy compounds the risks already present in generative systems. Designing failsafes, audit trails, and transparent decision-making processes becomes crucial.\\n\\n9. The Future: Hybrid Intelligence and Human-AI Collaboration\\n\\nWe are moving toward an era of Hybrid Intelligence, where humans, generative models, and agentic systems collaborate seamlessly. Consider this future scenario:\\n\\nYou describe a problem to your AI assistant (a generative task). \\uf0b7 \\uf0b7\\n\\nIt breaks the problem down, creates a plan, and executes it (agentic behavior). It generates content, fetches data, and makes decisions on your behalf (hybrid interaction).\\n\\nYou provide feedback, and it learns from your preferences over time.\\n\\nSuch systems could revolutionize productivity, creativity, and human potential—if developed responsibly.\\n\\nMoreover, society will need new frameworks for trust, regulation, and governance as we share cognitive space with increasingly capable machines.\\n\\n10. Conclusion\\n\\nWhile Generative AI and Agentic AI are intertwined in their technological underpinnings, they differ sharply in philosophy, function, and potential impact. Generative AI is about expression and creation; Agentic AI is about intention and action.\\n\\nAs they converge, they herald the rise of machines that can not only imagine but also do. Understanding this evolution is essential for developers, users, policymakers, and society at large.\\n\\nThe coming decade will likely be defined not by AI as a monolithic phenomenon, but by the collaboration—and sometimes tension—between the generative and the agentic. Our challenge and opportunity is to guide this evolution wisely, ensuring it serves human values, aspirations, and well-being.')]"
      ]
     },
     "execution_count": 5,
     "metadata": {},
     "output_type": "execute_result"
    }
   ],
   "source": [
    "documents   # Displays the contents of the loaded PDF."
   ]
  },
  {
   "cell_type": "markdown",
   "metadata": {},
   "source": [
    "### Creating a Text Wrapping Function"
   ]
  },
  {
   "cell_type": "code",
   "execution_count": null,
   "metadata": {
    "executionInfo": {
     "elapsed": 43,
     "status": "ok",
     "timestamp": 1757599815324,
     "user": {
      "displayName": "Yashwanth Kumar",
      "userId": "04073106945765763472"
     },
     "user_tz": -330
    },
    "id": "Z1MSegThY8m5"
   },
   "outputs": [],
   "source": [
    "import textwrap   # Imports Python’s text wrapping module.\n",
    "\n",
    "def wrap_text_preserve_newlines(text, width=110):    # Defines a function to wrap text to a specified width.\n",
    "    # Split the input text into lines based on newline characters\n",
    "    lines = text.split('\\n')\n",
    "\n",
    "    # Wrap each line individually\n",
    "    wrapped_lines = [textwrap.fill(line, width=width) for line in lines]\n",
    "\n",
    "    # Join the wrapped lines back together using newline characters\n",
    "    wrapped_text = '\\n'.join(wrapped_lines)\n",
    "\n",
    "    return wrapped_text"
   ]
  },
  {
   "cell_type": "markdown",
   "metadata": {},
   "source": [
    "## Previewing a Document"
   ]
  },
  {
   "cell_type": "code",
   "execution_count": 7,
   "metadata": {
    "colab": {
     "base_uri": "https://localhost:8080/"
    },
    "executionInfo": {
     "elapsed": 52,
     "status": "ok",
     "timestamp": 1757599821940,
     "user": {
      "displayName": "Yashwanth Kumar",
      "userId": "04073106945765763472"
     },
     "user_tz": -330
    },
    "id": "paFObdSWY8qD",
    "outputId": "fcdaa39e-0079-4f94-f618-178bbd231612"
   },
   "outputs": [
    {
     "name": "stdout",
     "output_type": "stream",
     "text": [
      "page_content='Generative AI vs. Agentic AI: A Deep Dive into the Future of Intelligent Systems\n",
      "\n",
      "Artificial Intelligence (AI) is not a monolithic concept, but a vast and evolving landscape of technologies,\n",
      "methodologies, and applications. Among the most significant developments in recent years are Generative AI and\n",
      "Agentic AI—two paradigms that, while closely related, differ fundamentally in their design, function, and\n",
      "implications. As these technologies continue to shape industries, economies, and societies, understanding\n",
      "their distinctions and interplay is critical for anyone engaged in technology, policy, business, or ethics.\n",
      "\n",
      "1. What is Generative AI?\n",
      "\n",
      "Generative AI refers to systems designed to generate new content, data, or information based on learned\n",
      "patterns from existing data. These models use machine learning techniques—particularly deep learning—to create\n",
      "text, images, audio, code, and even 3D models.\n",
      "\n",
      "Key Features:\n",
      "\n",
      "Pattern Recognition: Learns from massive datasets and identifies statistical patterns.\n",
      "\n",
      "Content Creation: Produces human-like output such as essays, paintings, music, or realistic synthetic voices.\n",
      "\n",
      "Non-Goal-Oriented: It responds to prompts but doesn’t maintain persistent goals or long- term plans.\n",
      "\n",
      "Prominent Examples:\n",
      "\n",
      "ChatGPT: Generates coherent and contextually aware text.  DALL·E: Creates images from text descriptions. \n",
      "DeepMind’s AlphaCode: Generates code to solve programming problems.\n",
      "\n",
      "Generative AI shines in applications requiring creativity, adaptability, and scalability of content creation.\n",
      "However, it typically lacks memory, agency, and persistent intent.\n",
      "\n",
      "2. What is Agentic AI?\n",
      "\n",
      "Agentic AI refers to AI systems that function as agents—entities capable of perceiving environments, making\n",
      "decisions, pursuing goals, and acting autonomously. These systems exhibit behaviors traditionally associated\n",
      "with agency: persistence, planning, memory, self- correction, and interaction over time.\n",
      "\n",
      "Key Features:\n",
      "\n",
      "Goal-Oriented: Designed to achieve specific objectives.  Autonomy: Can operate independently across time\n",
      "without continuous human prompting.  Reasoning and Planning: Uses models of the world to simulate and\n",
      "evaluate actions.  Memory and Adaptability: Retains state, adapts to changing conditions, and learns from\n",
      "experience.\n",
      "\n",
      "Prominent Examples:\n",
      "\n",
      "AutoGPT: Chains together tasks and interacts with tools to complete goals.  Personal AI Assistants (Next-\n",
      "Gen): Perform multi-step tasks like managing schedules, sending emails, or researching topics.\n",
      "\n",
      "Robotic Systems: Autonomous drones, delivery bots, or warehouse agents.\n",
      "\n",
      "Agentic AI is closer to the science fiction vision of AI—intelligent systems that act with purpose and\n",
      "continuity.\n",
      "\n",
      "3. Architectural Differences\n",
      "\n",
      "Aspect\n",
      "\n",
      "Generative AI\n",
      "\n",
      "Agentic AI\n",
      "\n",
      "Core Function\n",
      "\n",
      "Content generation\n",
      "\n",
      "Goal-directed behavior\n",
      "\n",
      "Temporal Scope\n",
      "\n",
      "Short-term (stateless or session- based)\n",
      "\n",
      "Long-term (stateful)\n",
      "\n",
      "Memory\n",
      "\n",
      "Typically limited or session-based Persistent memory\n",
      "\n",
      "Autonomy\n",
      "\n",
      "Reactive\n",
      "\n",
      "Proactive\n",
      "\n",
      "Learning\n",
      "\n",
      "Often pre-trained and fine-tuned\n",
      "\n",
      "May include online or reinforcement learning\n",
      "\n",
      "Examples\n",
      "\n",
      "GPT-4, Midjourney\n",
      "\n",
      "AutoGPT, BabyAGI, ReAct agents\n",
      "\n",
      "While both can use large language models (LLMs), Agentic AI builds additional layers around these models—like\n",
      "memory stores, planning algorithms, feedback loops, and external tool access.\n",
      "\n",
      "4. Functional Comparison\n",
      "\n",
      "Generative AI Strengths:\n",
      "\n",
      "Mimics human expression convincingly  Efficiently creates media content at scale  Aids brainstorming and\n",
      "ideation  Enhances creative workflows\n",
      "\n",
      "Agentic AI Strengths:\n",
      "\n",
      "Automates complex workflows  Makes strategic decisions  Learns and adapts through interaction  Integrates\n",
      "multiple tools and data sources\n",
      "\n",
      "Generative AI is a phenomenal assistant for human creativity; Agentic AI aims to act with or for the human,\n",
      "often with minimal supervision.\n",
      "\n",
      "5. Examples and Use Cases\n",
      "\n",
      "Generative AI:\n",
      "\n",
      "Marketing: Copywriting, ad generation, brand voice development  Entertainment: AI-written scripts, virtual\n",
      "musicians, interactive storytelling  Education: AI tutors, content summarization, language translation \n",
      "Design: Generative art, logo creation, UI/UX prototyping\n",
      "\n",
      "Agentic AI:\n",
      "\n",
      "Personal Productivity: Scheduling meetings, drafting reports, managing tasks  Customer Support: Multi-turn\n",
      "ticket resolution, contextual responses  Research and Analysis: Autonomous data gathering, hypothesis testing\n",
      " Automation: Software agents that use APIs to perform tasks (e.g., booking travel)\n",
      "\n",
      "The line between the two can blur in practice. For instance, a generative model may be used inside an agent to\n",
      "write an email, but the agent decides when, why, and how to write it.\n",
      "\n",
      "6. Philosophical and Ethical Dimensions\n",
      "\n",
      "The distinction between generative and agentic AI also opens profound philosophical questions:\n",
      "\n",
      "Responsibility and Intent: Can an AI be held accountable if it has agency?  Creativity vs. Intentionality: Is\n",
      "AI-generated content truly creative if there’s no intent behind it?\n",
      "\n",
      "Human Oversight: How do we maintain control over systems that act independently?\n",
      "\n",
      "Generative AI is often seen as a tool; Agentic AI increasingly resembles a collaborator—or even a competitor.\n",
      "\n",
      "Ethically, this raises concerns about autonomy, decision-making in high-stakes domains (e.g., law, medicine,\n",
      "warfare), and the potential for deceptive or manipulative behavior.\n",
      "\n",
      "7. Convergence: Where Generative Meets Agentic\n",
      "\n",
      "Recent innovations are fusing generative capabilities into agentic architectures, producing powerful hybrids.\n",
      "For example:\n",
      "\n",
      "ReAct Framework: Combines reasoning and action to solve tasks via tool use.  Toolformer and Function-Calling\n",
      "Agents: Allow LLMs to invoke APIs autonomously.  Long-term Memory and Feedback Loops: Let agents reflect on\n",
      "past interactions and improve over time.\n",
      "\n",
      "These hybrid systems can generate content and decide how and when to deploy it. This convergence will define\n",
      "the next generation of AI tools—adaptive, context-aware, and capable of complex interaction.\n",
      "\n",
      "8. Risks and Challenges\n",
      "\n",
      "For Generative AI:\n",
      "\n",
      "Misinformation and Deepfakes: Can generate persuasive but false content.   Bias and Harm: Models may\n",
      "replicate or amplify harmful stereotypes. Intellectual Property: Raises legal questions about training data\n",
      "and output ownership.\n",
      "\n",
      "For Agentic AI:\n",
      "\n",
      "Unpredictable Behavior: Autonomous decisions may lead to unintended consequences.  Control and Alignment:\n",
      "Difficult to ensure agents pursue goals safely and ethically.  Security Risks: Agents with access to systems\n",
      "and tools may be exploited or go rogue.\n",
      "\n",
      "The introduction of memory and autonomy compounds the risks already present in generative systems. Designing\n",
      "failsafes, audit trails, and transparent decision-making processes becomes crucial.\n",
      "\n",
      "9. The Future: Hybrid Intelligence and Human-AI Collaboration\n",
      "\n",
      "We are moving toward an era of Hybrid Intelligence, where humans, generative models, and agentic systems\n",
      "collaborate seamlessly. Consider this future scenario:\n",
      "\n",
      "You describe a problem to your AI assistant (a generative task).  \n",
      "\n",
      "It breaks the problem down, creates a plan, and executes it (agentic behavior). It generates content, fetches\n",
      "data, and makes decisions on your behalf (hybrid interaction).\n",
      "\n",
      "You provide feedback, and it learns from your preferences over time.\n",
      "\n",
      "Such systems could revolutionize productivity, creativity, and human potential—if developed responsibly.\n",
      "\n",
      "Moreover, society will need new frameworks for trust, regulation, and governance as we share cognitive space\n",
      "with increasingly capable machines.\n",
      "\n",
      "10. Conclusion\n",
      "\n",
      "While Generative AI and Agentic AI are intertwined in their technological underpinnings, they differ sharply\n",
      "in philosophy, function, and potential impact. Generative AI is about expression and creation; Agentic AI is\n",
      "about intention and action.\n",
      "\n",
      "As they converge, they herald the rise of machines that can not only imagine but also do. Understanding this\n",
      "evolution is essential for developers, users, policymakers, and society at large.\n",
      "\n",
      "The coming decade will likely be defined not by AI as a monolithic phenomenon, but by the collaboration—and\n",
      "sometimes tension—between the generative and the agentic. Our challenge and opportunity is to guide this\n",
      "evolution wisely, ensuring it serves human values, aspirations, and well-being.' metadata={'source':\n",
      "'/content/drive/MyDrive/GenAI vs AgenticAI.pdf'}\n"
     ]
    }
   ],
   "source": [
    "print(wrap_text_preserve_newlines(str(documents[0])))"
   ]
  },
  {
   "cell_type": "markdown",
   "metadata": {},
   "source": [
    "## Splitting Documents"
   ]
  },
  {
   "cell_type": "code",
   "execution_count": null,
   "metadata": {
    "executionInfo": {
     "elapsed": 43,
     "status": "ok",
     "timestamp": 1757599846716,
     "user": {
      "displayName": "Yashwanth Kumar",
      "userId": "04073106945765763472"
     },
     "user_tz": -330
    },
    "id": "J46pHLq2Y8r8"
   },
   "outputs": [],
   "source": [
    "# Text Splitter\n",
    "from langchain.text_splitter import CharacterTextSplitter   # Imports a text splitter from LangChain.\n",
    "text_splitter = CharacterTextSplitter(chunk_size=1000, chunk_overlap=0)\n",
    "docs = text_splitter.split_documents(documents)"
   ]
  },
  {
   "cell_type": "code",
   "execution_count": 10,
   "metadata": {
    "colab": {
     "base_uri": "https://localhost:8080/"
    },
    "executionInfo": {
     "elapsed": 12,
     "status": "ok",
     "timestamp": 1757599900150,
     "user": {
      "displayName": "Yashwanth Kumar",
      "userId": "04073106945765763472"
     },
     "user_tz": -330
    },
    "id": "SbqjJuHlY8vF",
    "outputId": "431563c1-1479-466c-804e-72e6281b676b"
   },
   "outputs": [
    {
     "data": {
      "text/plain": [
       "Document(metadata={'source': '/content/drive/MyDrive/GenAI vs AgenticAI.pdf'}, page_content='Pattern Recognition: Learns from massive datasets and identifies statistical patterns.\\n\\nContent Creation: Produces human-like output such as essays, paintings, music, or realistic synthetic voices.\\n\\nNon-Goal-Oriented: It responds to prompts but doesn’t maintain persistent goals or long- term plans.\\n\\nProminent Examples:\\n\\nChatGPT: Generates coherent and contextually aware text. \\uf0b7 DALL·E: Creates images from text descriptions. \\uf0b7 DeepMind’s AlphaCode: Generates code to solve programming problems.\\n\\nGenerative AI shines in applications requiring creativity, adaptability, and scalability of content creation. However, it typically lacks memory, agency, and persistent intent.\\n\\n2. What is Agentic AI?')"
      ]
     },
     "execution_count": 10,
     "metadata": {},
     "output_type": "execute_result"
    }
   ],
   "source": [
    "docs[1]"
   ]
  },
  {
   "cell_type": "code",
   "execution_count": 12,
   "metadata": {
    "colab": {
     "base_uri": "https://localhost:8080/"
    },
    "executionInfo": {
     "elapsed": 26,
     "status": "ok",
     "timestamp": 1757599904120,
     "user": {
      "displayName": "Yashwanth Kumar",
      "userId": "04073106945765763472"
     },
     "user_tz": -330
    },
    "id": "Tkqx-OXyY8xn",
    "outputId": "4d776cf2-ab5b-4e5a-96bc-48b78f6fc7d8"
   },
   "outputs": [
    {
     "data": {
      "text/plain": [
       "9"
      ]
     },
     "execution_count": 12,
     "metadata": {},
     "output_type": "execute_result"
    }
   ],
   "source": [
    "len(docs)"
   ]
  },
  {
   "cell_type": "markdown",
   "metadata": {},
   "source": [
    "## Create embeddings and build FAISS vector store"
   ]
  },
  {
   "cell_type": "code",
   "execution_count": 13,
   "metadata": {
    "colab": {
     "base_uri": "https://localhost:8080/",
     "height": 563,
     "referenced_widgets": [
      "bf425e029c9145beb4bf0d4a5374de00",
      "903c27b7838b4140b35f2b7b6fbcb4ce",
      "334f0a5441f240e0818427a246f06410",
      "6f7a3c13577448c5b541d60ac9515f8b",
      "60e7c40ab115485c9bc8231c5b82e606",
      "3fb32009ebb449288d31d4e7e4c66d2b",
      "7f51c00892b942f7aae229677674352c",
      "2d1bc355f22741c6bd9508ae9ecebcfb",
      "48dc19ae38314dc889710b7b08d11f21",
      "ac76f8e843b84e639fe60454c04b4272",
      "15874736ff41434cb66d9c27945f5075",
      "c992f08d85cb4c01a4e1d9c33672a2ec",
      "b1fff29d8d554cef9f5772a46b46801c",
      "27f1bd3ae8d540d49cf7b04cbc334af4",
      "764ca9d4d0224037a7d243164ad68b50",
      "2a47e8b7aaaf4ad0984bbb408ab627fa",
      "ff58d9ba1c104428937abd2aaea2bfba",
      "e77525b08ee34834ab0e65c70ec5d2aa",
      "5c10dac40b414a11ad3ba78d2f88a5ce",
      "370b1386e0084267bdc12f5e36a54027",
      "b6dc554996ff4ed299fdf44c5186a4bb",
      "40bdf615d4bf4d769fe3920ee0f99c73",
      "0996cf83a88d4b00a0282962eec77224",
      "44efdc3cda564091a6c9817d8f80d70d",
      "41326629e4ca42df8b96376bf329b35c",
      "2edfb704c77444ff88b36063e4418955",
      "23be90c5866746bbbbe4756037aa880a",
      "6cdcdd4e783a45d2b1c0ad9774bc13d6",
      "e6d94a9e512f41e6bb15a9a6a0035ea7",
      "2c45563a86f149c499e4fbb9759e6c59",
      "64d65688f9e7432581437852941fd0c4",
      "cb83200d107d413ba3d792812da29339",
      "52b751641b5749468d1ef85f498be4a1",
      "43ea511f06b443deb1d99abe15789c1a",
      "57e54bdf68cc45aabc7750db4dcfea49",
      "fc5db9e6dc74402890bb08f942e56f73",
      "0532f1a24f1c494ba31ac6a85fdcb596",
      "8e00abf113cd4b609e404b1d24075b8e",
      "08fb2dc4e14d45fa89cd28c704b6f548",
      "1e4d6c6e99644685b9c9cc1bd43d29b1",
      "2f92d9b9f04140e48a6ffa38a8a1387e",
      "0b2186de26f14bfc9d068351422b777b",
      "c890f34feb91481fb66cb997fc3e006c",
      "9cbb1ca745cf473c96e72610d98e6f36",
      "8ad01be9a44443849da655259fd4f2c9",
      "e4d12da3848f48fe8738a027288843be",
      "668e97d6ef0e41c2a15f432e07216f40",
      "1fbec35f554349d8ba3b95f47e874f39",
      "2212adf2feca48b9a706764411b7e416",
      "d17a22abe40448b3aefb6c9b014bc71e",
      "5bc9dcb8e2f045c8beedae593f5627e6",
      "20ee704ef3ef43ffb9b2e91749d27435",
      "de3ad358c0594930bcf91e25f1acd99d",
      "75871e7121414d3aa68dcfe8967befb3",
      "0edb757011764292932477ac62e743c7",
      "31e293b78e6e49d78a3005c4a57f6e32",
      "43f4fda232cf45b98e6d3b641d94a4f6",
      "661f9ba8917548a6be5ce0708c70c4ec",
      "7393d22585b84f15a219634215ee7bea",
      "1a67f463b51144809ac010392e69c054",
      "a3afef0e7cbf4edb886d069c3eedfa37",
      "06902f54551947beb7ff6b4678a74fd7",
      "3c0f56ac690f40698fdf2bc293d43806",
      "db37301285134cda9c75a3c566508ba7",
      "9c20cb69e3dc441b8b62a3287ae94e3f",
      "a634afab731a48c1834dff38999fa08d",
      "d5064a86c531487693f2fbffc6491a86",
      "f0d252aafaa047d8abec4b9a8ed4d4fe",
      "d549620bdef94ec6be480e0a00d479c8",
      "debd3934394e478288954ef38182df79",
      "2b8705183c124935bfafcf8be9e9c91a",
      "5b6167de7285494b9315b5bafcc688fd",
      "5d026a720bd54003b33422fb13711fec",
      "6afde7b271e24e46bfa1ce8d30425d57",
      "6c3ba3b88175418fb40543262084a521",
      "57efd72983304055a3a74780ad8b57f5",
      "5c3fbcf72b624d71b826502a2122f572",
      "315acc8da5ee46efa7006c6b60ddf7f4",
      "f855efe2cc994357a674a2039f598175",
      "4d093d1788744f08964e29106a8067a7",
      "64d9c6c5c5654ec4a1592cbabbab84be",
      "fb248bff517c430d97e36fab6c0e0c35",
      "5703e0ee4b5f4b9785628face3a0860c",
      "7819c2c191844882bb2a168a7247b48d",
      "7ee1772c4efa4d519ba967bd91a06855",
      "d9c47399d6324de49f4fce949c4219f9",
      "b7bb1bbfab524cfa823367ba33c3c529",
      "b0bd326c0af44b4cb76135dec982ee56",
      "1e266bf9ee894dcb84d09cacde9bcb9c",
      "a816922fcd404e0eaad15458435f4d4d",
      "ae832ecc2bc748d4bd205b4a8f05c734",
      "20c55c8d763947b6aa6c68e466de95b9",
      "cc722d28aba84f4cb8b225db76fa1231",
      "fe3b21a7b78a447582536320a6ca1a54",
      "7bc944a233874b8084714d9c68e00b8c",
      "947f024aba874766a63f3fb40a4d03de",
      "cfc9ca273c584eb69ec90591671ab05d",
      "16df4b11f5c54eb0b8cd36dd9437e46f",
      "2a99222a2c3144209b059c0ba6a02527",
      "8765f8ef901749be8a65bd006c8a19b5",
      "095ef8d6ea89406d8a5f0c5cfcbd6f93",
      "3cfab2a6dee94b8a891b430fa6004b0c",
      "44fc7564d0324a12871f529b482e85cf",
      "3ff5beb2819a47aa8add1966d783f6de",
      "bc96ea38a889445cbba9a1a1e3a895ed",
      "928610e6886e45d9b858210466330424",
      "91bacb66129443e78c7d259a8aede33d",
      "4a939448101d4d38af17c6be35e4e117",
      "f6d2ac9caec642269d5e1aa756e08eaf",
      "2b189aefe3c34e97a9ee84d84f39c36a",
      "848f057010c94ffaae4019ceb13348b7",
      "24a3097782d54c91af3a2f8cb41b2214",
      "fbdcbe913ba94b9391de86e19c29e5d6",
      "618592c8e40a476c97d6a5058c159203",
      "4845c6942def49a4924071f6ce727066",
      "8c6ac708206c40d895c264f5bb45bd4d",
      "9eba6d1e90664185a4a54dc45e015a24",
      "fe5f6c1b672e44168952efc1a7c52fbd",
      "2ea56566b2f3437b8034dffcbdd447c5",
      "4eed8e59edd4459bab28ffef92a438d3",
      "d5d44d6b648c4ec9aad083b0a5574f23"
     ]
    },
    "executionInfo": {
     "elapsed": 22148,
     "status": "ok",
     "timestamp": 1757599931491,
     "user": {
      "displayName": "Yashwanth Kumar",
      "userId": "04073106945765763472"
     },
     "user_tz": -330
    },
    "id": "SyOdBKaRY80Y",
    "outputId": "2498455f-277e-46b7-d415-e1593f31d6ff"
   },
   "outputs": [
    {
     "name": "stderr",
     "output_type": "stream",
     "text": [
      "/tmp/ipython-input-1664678352.py:3: LangChainDeprecationWarning: The class `HuggingFaceEmbeddings` was deprecated in LangChain 0.2.2 and will be removed in 1.0. An updated version of the class exists in the :class:`~langchain-huggingface package and should be used instead. To use it run `pip install -U :class:`~langchain-huggingface` and import as `from :class:`~langchain_huggingface import HuggingFaceEmbeddings``.\n",
      "  embeddings = HuggingFaceEmbeddings()\n",
      "/tmp/ipython-input-1664678352.py:3: LangChainDeprecationWarning: Default values for HuggingFaceEmbeddings.model_name were deprecated in LangChain 0.2.16 and will be removed in 0.4.0. Explicitly pass a model_name to the HuggingFaceEmbeddings constructor instead.\n",
      "  embeddings = HuggingFaceEmbeddings()\n",
      "/usr/local/lib/python3.12/dist-packages/huggingface_hub/utils/_auth.py:94: UserWarning: \n",
      "The secret `HF_TOKEN` does not exist in your Colab secrets.\n",
      "To authenticate with the Hugging Face Hub, create a token in your settings tab (https://huggingface.co/settings/tokens), set it as secret in your Google Colab and restart your session.\n",
      "You will be able to reuse this secret in all of your notebooks.\n",
      "Please note that authentication is recommended but still optional to access public models or datasets.\n",
      "  warnings.warn(\n"
     ]
    },
    {
     "data": {
      "application/vnd.jupyter.widget-view+json": {
       "model_id": "bf425e029c9145beb4bf0d4a5374de00",
       "version_major": 2,
       "version_minor": 0
      },
      "text/plain": [
       "modules.json:   0%|          | 0.00/349 [00:00<?, ?B/s]"
      ]
     },
     "metadata": {},
     "output_type": "display_data"
    },
    {
     "data": {
      "application/vnd.jupyter.widget-view+json": {
       "model_id": "c992f08d85cb4c01a4e1d9c33672a2ec",
       "version_major": 2,
       "version_minor": 0
      },
      "text/plain": [
       "config_sentence_transformers.json:   0%|          | 0.00/116 [00:00<?, ?B/s]"
      ]
     },
     "metadata": {},
     "output_type": "display_data"
    },
    {
     "data": {
      "application/vnd.jupyter.widget-view+json": {
       "model_id": "0996cf83a88d4b00a0282962eec77224",
       "version_major": 2,
       "version_minor": 0
      },
      "text/plain": [
       "README.md: 0.00B [00:00, ?B/s]"
      ]
     },
     "metadata": {},
     "output_type": "display_data"
    },
    {
     "data": {
      "application/vnd.jupyter.widget-view+json": {
       "model_id": "43ea511f06b443deb1d99abe15789c1a",
       "version_major": 2,
       "version_minor": 0
      },
      "text/plain": [
       "sentence_bert_config.json:   0%|          | 0.00/53.0 [00:00<?, ?B/s]"
      ]
     },
     "metadata": {},
     "output_type": "display_data"
    },
    {
     "data": {
      "application/vnd.jupyter.widget-view+json": {
       "model_id": "8ad01be9a44443849da655259fd4f2c9",
       "version_major": 2,
       "version_minor": 0
      },
      "text/plain": [
       "config.json:   0%|          | 0.00/571 [00:00<?, ?B/s]"
      ]
     },
     "metadata": {},
     "output_type": "display_data"
    },
    {
     "data": {
      "application/vnd.jupyter.widget-view+json": {
       "model_id": "31e293b78e6e49d78a3005c4a57f6e32",
       "version_major": 2,
       "version_minor": 0
      },
      "text/plain": [
       "model.safetensors:   0%|          | 0.00/438M [00:00<?, ?B/s]"
      ]
     },
     "metadata": {},
     "output_type": "display_data"
    },
    {
     "data": {
      "application/vnd.jupyter.widget-view+json": {
       "model_id": "d5064a86c531487693f2fbffc6491a86",
       "version_major": 2,
       "version_minor": 0
      },
      "text/plain": [
       "tokenizer_config.json:   0%|          | 0.00/363 [00:00<?, ?B/s]"
      ]
     },
     "metadata": {},
     "output_type": "display_data"
    },
    {
     "data": {
      "application/vnd.jupyter.widget-view+json": {
       "model_id": "315acc8da5ee46efa7006c6b60ddf7f4",
       "version_major": 2,
       "version_minor": 0
      },
      "text/plain": [
       "vocab.txt: 0.00B [00:00, ?B/s]"
      ]
     },
     "metadata": {},
     "output_type": "display_data"
    },
    {
     "data": {
      "application/vnd.jupyter.widget-view+json": {
       "model_id": "1e266bf9ee894dcb84d09cacde9bcb9c",
       "version_major": 2,
       "version_minor": 0
      },
      "text/plain": [
       "tokenizer.json: 0.00B [00:00, ?B/s]"
      ]
     },
     "metadata": {},
     "output_type": "display_data"
    },
    {
     "data": {
      "application/vnd.jupyter.widget-view+json": {
       "model_id": "8765f8ef901749be8a65bd006c8a19b5",
       "version_major": 2,
       "version_minor": 0
      },
      "text/plain": [
       "special_tokens_map.json:   0%|          | 0.00/239 [00:00<?, ?B/s]"
      ]
     },
     "metadata": {},
     "output_type": "display_data"
    },
    {
     "data": {
      "application/vnd.jupyter.widget-view+json": {
       "model_id": "848f057010c94ffaae4019ceb13348b7",
       "version_major": 2,
       "version_minor": 0
      },
      "text/plain": [
       "config.json:   0%|          | 0.00/190 [00:00<?, ?B/s]"
      ]
     },
     "metadata": {},
     "output_type": "display_data"
    }
   ],
   "source": [
    "from langchain.embeddings import HuggingFaceEmbeddings\n",
    "\n",
    "embeddings = HuggingFaceEmbeddings()"
   ]
  },
  {
   "cell_type": "code",
   "execution_count": 14,
   "metadata": {
    "executionInfo": {
     "elapsed": 806,
     "status": "ok",
     "timestamp": 1757599941465,
     "user": {
      "displayName": "Yashwanth Kumar",
      "userId": "04073106945765763472"
     },
     "user_tz": -330
    },
    "id": "9VXf_Y5uY83O"
   },
   "outputs": [],
   "source": [
    "from langchain.vectorstores import FAISS\n",
    "\n",
    "db = FAISS.from_documents(docs, embeddings)"
   ]
  },
  {
   "cell_type": "markdown",
   "metadata": {},
   "source": [
    "## Setup LLM (Groq)"
   ]
  },
  {
   "cell_type": "code",
   "execution_count": 21,
   "metadata": {
    "executionInfo": {
     "elapsed": 425,
     "status": "ok",
     "timestamp": 1757600094858,
     "user": {
      "displayName": "Yashwanth Kumar",
      "userId": "04073106945765763472"
     },
     "user_tz": -330
    },
    "id": "yPZhGp7xdW9x"
   },
   "outputs": [],
   "source": [
    "import langchain_groq\n",
    "from langchain_groq import ChatGroq\n",
    "\n",
    "GROQ_LLM = ChatGroq(\n",
    "            api_key=os.getenv(\"GROQ_API_KEY\"),\n",
    "            model=\"gemma2-9b-it\"\n",
    "        )"
   ]
  },
  {
   "cell_type": "markdown",
   "metadata": {},
   "source": [
    "## Simple RetrievalQA"
   ]
  },
  {
   "cell_type": "code",
   "execution_count": 22,
   "metadata": {
    "colab": {
     "base_uri": "https://localhost:8080/"
    },
    "executionInfo": {
     "elapsed": 671,
     "status": "ok",
     "timestamp": 1757600098067,
     "user": {
      "displayName": "Yashwanth Kumar",
      "userId": "04073106945765763472"
     },
     "user_tz": -330
    },
    "id": "W4rsMFmddW6t",
    "outputId": "46a77a8e-e7ad-4c25-b35d-4c58b5cd7264"
   },
   "outputs": [
    {
     "name": "stderr",
     "output_type": "stream",
     "text": [
      "/tmp/ipython-input-2967591166.py:3: LangChainDeprecationWarning: This class is deprecated. See the following migration guides for replacements based on `chain_type`:\n",
      "stuff: https://python.langchain.com/docs/versions/migrating_chains/stuff_docs_chain\n",
      "map_reduce: https://python.langchain.com/docs/versions/migrating_chains/map_reduce_chain\n",
      "refine: https://python.langchain.com/docs/versions/migrating_chains/refine_chain\n",
      "map_rerank: https://python.langchain.com/docs/versions/migrating_chains/map_rerank_docs_chain\n",
      "\n",
      "See also guides on retrieval and question-answering here: https://python.langchain.com/docs/how_to/#qa-with-rag\n",
      "  chain = load_qa_chain(GROQ_LLM, chain_type=\"stuff\")\n"
     ]
    }
   ],
   "source": [
    "from langchain.chains.question_answering import load_qa_chain\n",
    "\n",
    "chain = load_qa_chain(GROQ_LLM, chain_type=\"stuff\")"
   ]
  },
  {
   "cell_type": "markdown",
   "metadata": {},
   "source": [
    "### Conversational RAG with memory"
   ]
  },
  {
   "cell_type": "code",
   "execution_count": 75,
   "metadata": {
    "colab": {
     "base_uri": "https://localhost:8080/",
     "height": 53
    },
    "executionInfo": {
     "elapsed": 288,
     "status": "ok",
     "timestamp": 1757600861285,
     "user": {
      "displayName": "Yashwanth Kumar",
      "userId": "04073106945765763472"
     },
     "user_tz": -330
    },
    "id": "XNwWmBgMdW4t",
    "outputId": "b033c547-f151-464f-a490-0d2da1e0db88"
   },
   "outputs": [
    {
     "data": {
      "application/vnd.google.colaboratory.intrinsic+json": {
       "type": "string"
      },
      "text/plain": [
       "'This document provides a description of Generative AI and Agentic AI. However, it does not contain information about the Indian economy. \\n\\n\\nI cannot answer your question about the Indian economy as it is not covered in the provided context. \\n'"
      ]
     },
     "execution_count": 75,
     "metadata": {},
     "output_type": "execute_result"
    }
   ],
   "source": [
    "query = \"HOW IS INDIAN ECONOMY\"\n",
    "docs = db.similarity_search(query)\n",
    "chain.run(input_documents=docs, question=query)"
   ]
  },
  {
   "cell_type": "code",
   "execution_count": 78,
   "metadata": {
    "colab": {
     "base_uri": "https://localhost:8080/",
     "height": 105
    },
    "executionInfo": {
     "elapsed": 364,
     "status": "ok",
     "timestamp": 1757600879221,
     "user": {
      "displayName": "Yashwanth Kumar",
      "userId": "04073106945765763472"
     },
     "user_tz": -330
    },
    "id": "Fd2kQAGOdW1K",
    "outputId": "b7f4ff1a-1e6d-4305-d01d-475a1dca192b"
   },
   "outputs": [
    {
     "data": {
      "application/vnd.google.colaboratory.intrinsic+json": {
       "type": "string"
      },
      "text/plain": [
       "'Here are the risks and challenges for Generative AI, as outlined in the text:\\n\\n* **Misinformation and Deepfakes:** Generative AI can create convincing fake content, which can be used to spread misinformation and manipulate people.\\n* **Bias and Harm:** These models can learn and amplify existing biases present in the data they are trained on, leading to unfair or harmful outputs.\\n* **Intellectual Property:** There are legal questions surrounding the ownership of intellectual property generated by AI models, especially concerning the training data used. \\n\\n\\nLet me know if you have any other questions. \\n'"
      ]
     },
     "execution_count": 78,
     "metadata": {},
     "output_type": "execute_result"
    }
   ],
   "source": [
    "query = \" What are the Risks and Challenges for Generative AI \"\n",
    "docs = db.similarity_search(query)\n",
    "chain.run(input_documents=docs, question=query)"
   ]
  },
  {
   "cell_type": "code",
   "execution_count": 39,
   "metadata": {
    "colab": {
     "base_uri": "https://localhost:8080/",
     "height": 36
    },
    "executionInfo": {
     "elapsed": 142,
     "status": "ok",
     "timestamp": 1757600435880,
     "user": {
      "displayName": "Yashwanth Kumar",
      "userId": "04073106945765763472"
     },
     "user_tz": -330
    },
    "id": "ptG6s0qCdWzL",
    "outputId": "0468e935-39ff-4967-9ea6-30d583696441"
   },
   "outputs": [
    {
     "data": {
      "application/vnd.google.colaboratory.intrinsic+json": {
       "type": "string"
      },
      "text/plain": [
       "'This document does not contain the answer to who the Prime Minister of India is.  \\n'"
      ]
     },
     "execution_count": 39,
     "metadata": {},
     "output_type": "execute_result"
    }
   ],
   "source": [
    "query = \"Who is the Prime Minister of India\"\n",
    "docs = db.similarity_search(query)\n",
    "chain.run(input_documents=docs, question=query)"
   ]
  },
  {
   "cell_type": "code",
   "execution_count": 45,
   "metadata": {
    "colab": {
     "base_uri": "https://localhost:8080/",
     "height": 88
    },
    "executionInfo": {
     "elapsed": 279,
     "status": "ok",
     "timestamp": 1757600572059,
     "user": {
      "displayName": "Yashwanth Kumar",
      "userId": "04073106945765763472"
     },
     "user_tz": -330
    },
    "id": "Yob0Pu0jdWwD",
    "outputId": "841117fd-9dc7-43fb-c7aa-0a38df54cadd"
   },
   "outputs": [
    {
     "data": {
      "application/vnd.google.colaboratory.intrinsic+json": {
       "type": "string"
      },
      "text/plain": [
       "'Here are some examples and use cases of Agentic AI, according to the text provided:\\n\\n* **Personal Productivity:** Scheduling meetings, drafting reports, managing tasks\\n* **Customer Support:** Multi-turn ticket resolution, contextual responses\\n* **Research and Analysis:** Autonomous data gathering, hypothesis testing\\n* **Automation:** Software agents that use APIs to perform tasks (e.g., booking travel) \\n\\n\\nLet me know if you have any other questions! \\n'"
      ]
     },
     "execution_count": 45,
     "metadata": {},
     "output_type": "execute_result"
    }
   ],
   "source": [
    "query = \"What are the Examples and Use Cases of Agentic AI\"\n",
    "docs = db.similarity_search(query)\n",
    "chain.run(input_documents=docs, question=query)"
   ]
  },
  {
   "cell_type": "code",
   "execution_count": 81,
   "metadata": {
    "colab": {
     "base_uri": "https://localhost:8080/"
    },
    "executionInfo": {
     "elapsed": 366,
     "status": "ok",
     "timestamp": 1757601172126,
     "user": {
      "displayName": "Yashwanth Kumar",
      "userId": "04073106945765763472"
     },
     "user_tz": -330
    },
    "id": "8lnoYF36dWkZ",
    "outputId": "603e556a-03be-4764-8824-0443f3c9afcd"
   },
   "outputs": [
    {
     "name": "stdout",
     "output_type": "stream",
     "text": [
      "\n",
      "============================================================\n",
      "Query:\n",
      "List out the Generative AI Strengths and Agentic AI Strengths\n",
      "\n",
      " Response:\n",
      "Here are the strengths of each type of AI, as listed in the text:\n",
      "\n",
      "**Generative AI Strengths:**\n",
      "\n",
      "* Mimics human expression convincingly \n",
      "* Efficiently creates media content at scale\n",
      "* Aids brainstorming and ideation\n",
      "* Enhances creative workflows\n",
      "\n",
      "**Agentic AI Strengths:**\n",
      "\n",
      "* Automates complex workflows\n",
      "* Makes strategic decisions\n",
      "* Learns and adapts through interaction\n",
      "* Integrates multiple tools and data sources \n",
      "\n",
      "\n",
      "Let me know if you have any other questions. \n",
      "\n",
      "============================================================\n",
      "\n"
     ]
    }
   ],
   "source": [
    "query = \"List out the Generative AI Strengths and Agentic AI Strengths\"\n",
    "\n",
    "# Retrieve similar documents\n",
    "docs = db.similarity_search(query)\n",
    "\n",
    "# Run the chain\n",
    "response = chain.run(input_documents=docs, question=query)\n",
    "\n",
    "# Neatly print everything\n",
    "print(\"\\n\" + \"=\"*60)\n",
    "print(\"Query:\")\n",
    "print(query)\n",
    "\n",
    "print(\"\\n Response:\")\n",
    "print(response)\n",
    "print(\"=\"*60 + \"\\n\")\n"
   ]
  }
 ],
 "metadata": {
  "accelerator": "GPU",
  "colab": {
   "authorship_tag": "ABX9TyMiDhI16AXJ4WcEfuAlYAs2",
   "gpuType": "T4",
   "mount_file_id": "1RwYmULSpBXcCkUO_QwfnVQ5grp02ysay",
   "provenance": []
  },
  "kernelspec": {
   "display_name": "Python 3",
   "name": "python3"
  },
  "language_info": {
   "name": "python"
  }
 },
 "nbformat": 4,
 "nbformat_minor": 0
}
